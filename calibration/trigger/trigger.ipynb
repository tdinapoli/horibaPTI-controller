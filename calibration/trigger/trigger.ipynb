{
 "cells": [
  {
   "cell_type": "markdown",
   "metadata": {},
   "source": [
    "# Trigger calibration notebook\n",
    "\n",
    "This notebook was made to calibrate and troubleshoot RP's trigger problems."
   ]
  },
  {
   "cell_type": "markdown",
   "metadata": {},
   "source": [
    "#### Preamble\n",
    "\n",
    "Import and initialize everything needed"
   ]
  },
  {
   "cell_type": "code",
   "execution_count": 2,
   "metadata": {},
   "outputs": [],
   "source": [
    "%load_ext autoreload\n",
    "%autoreload 2"
   ]
  },
  {
   "cell_type": "code",
   "execution_count": 33,
   "metadata": {},
   "outputs": [],
   "source": [
    "import matplotlib.pyplot as plt\n",
    "import numpy as np\n",
    "import time"
   ]
  },
  {
   "cell_type": "code",
   "execution_count": 59,
   "metadata": {},
   "outputs": [],
   "source": [
    "from ucnpexp.instruments import Spectrometer\n",
    "spec = Spectrometer.constructor_default()"
   ]
  },
  {
   "cell_type": "markdown",
   "metadata": {},
   "source": [
    "#### Experiment 1\n",
    "\n",
    "In this and the following experiments from now on unless otherwise specified, the hardware configuration is the following:\n",
    "\n",
    "Instruments:\n",
    "1. HP33120A Function Generator (FG)\n",
    "    * Freq 100Hz\n",
    "    * Amp 7Vpp\n",
    "    * Offset 2.5VDC\n",
    "    * Square wave 50% duty cycle (DC)\n",
    "1. Tektronix TDS1002B Oscilloscope (OS)\n",
    "1. Red Pitaya (RP)\n",
    "1. Voltage divider (VD) on Proto board, R1 = 160, R2 = 2*160 \n",
    "\n",
    "Connections are:\n",
    "FG -> BNC T OS CH1 BNC T -> BNC T RP CH1 BNC T -> VD -> RP pin p0 (external trigger)\n",
    "\n",
    "Voltage divider is used to feed RP external trigger GPIO P0 with 3.3 VPP Square wave instead of 5V.\n",
    "\n",
    "With this configuration the trigger signal (RP GPIO P0) and the measured signal (RP CH1) are the same.\n",
    "The goal is to figure out why the trigger sometimes triggers when there is no flank.\n",
    "The hypothesis is that if you ask the RP for oscilloscope screens faster than the buffer was filled (in this case should be 0.1 seconds), then the returned data wasn't triggered at the right time.\n",
    "To figure this we are going to ask for two triggered RP screens of 0.1 seconds with different delay times in the middle of them, save that data and then makea histogram of difference in trigger times for each delay time.\n",
    "The key line of code here is the ```spec._osc.set_trigger(num)``` which sets what trigger is going to be used.\n",
    "Supposedly, the number 6 and 7 correspond to external trigger with different slope triggering, infered by reading code in [here](https://github.com/search?q=repo%3ARedPitaya%2FRedPitaya%20switch(trig_source)&type=code).\n",
    "The other option is that either number 5 or 2**5 correspond to the external trigger infered by reading the ADC streaming table [here](https://redpitaya.readthedocs.io/en/latest/developerGuide/software/build/fpga/regset/in_dev/stream_app.html).\n",
    "\n",
    "In experiment 1 we use the number 5."
   ]
  },
  {
   "cell_type": "code",
   "execution_count": null,
   "metadata": {},
   "outputs": [],
   "source": [
    "spec._osc.set_measurement_time(0.1)\n",
    "spec._osc.set_trigger(5, edge='pos', level=1.0)\n",
    "\n",
    "delays = np.linspace(0.01, 1, 10)\n",
    "\n",
    "for delay in delays:\n",
    "    time.sleep(1)\n"
   ]
  },
  {
   "cell_type": "code",
   "execution_count": 60,
   "metadata": {},
   "outputs": [],
   "source": [
    "spec._osc.set_measurement_time(0.1)\n",
    "spec._osc.set_trigger(0x40000000 + 8, edge='pos', level=1.0)\n"
   ]
  },
  {
   "cell_type": "code",
   "execution_count": 61,
   "metadata": {},
   "outputs": [
    {
     "ename": "TimeoutError",
     "evalue": "result expired",
     "output_type": "error",
     "traceback": [
      "\u001b[0;31m---------------------------------------------------------------------------\u001b[0m",
      "\u001b[0;31mTimeoutError\u001b[0m                              Traceback (most recent call last)",
      "\u001b[1;32m/home/tomi/Documents/facultad/tesis/horibaPTI-controller/calibration/trigger/trigger.ipynb Cell 9\u001b[0m line \u001b[0;36m1\n\u001b[0;32m----> <a href='vscode-notebook-cell:/home/tomi/Documents/facultad/tesis/horibaPTI-controller/calibration/trigger/trigger.ipynb#X14sZmlsZQ%3D%3D?line=0'>1</a>\u001b[0m screen \u001b[39m=\u001b[39m spec\u001b[39m.\u001b[39;49m_osc\u001b[39m.\u001b[39;49mget_triggered()\n\u001b[1;32m      <a href='vscode-notebook-cell:/home/tomi/Documents/facultad/tesis/horibaPTI-controller/calibration/trigger/trigger.ipynb#X14sZmlsZQ%3D%3D?line=1'>2</a>\u001b[0m plt\u001b[39m.\u001b[39mplot(screen)\n",
      "File \u001b[0;32m~/Documents/facultad/tesis/instrumentation-venv/lib64/python3.11/site-packages/ucnpexp/instruments.py:305\u001b[0m, in \u001b[0;36mOscilloscopeChannel.get_triggered\u001b[0;34m(self, data_points)\u001b[0m\n\u001b[1;32m    303\u001b[0m \u001b[39mif\u001b[39;00m data_points \u001b[39mis\u001b[39;00m \u001b[39mNone\u001b[39;00m:\n\u001b[1;32m    304\u001b[0m     data_points \u001b[39m=\u001b[39m \u001b[39mself\u001b[39m\u001b[39m.\u001b[39mamount_datapoints\n\u001b[0;32m--> 305\u001b[0m \u001b[39mreturn\u001b[39;00m \u001b[39mself\u001b[39;49m\u001b[39m.\u001b[39;49mosc\u001b[39m.\u001b[39;49mget_triggered(data_points)\n",
      "File \u001b[0;32m~/Documents/facultad/tesis/instrumentation-venv/lib64/python3.11/site-packages/rpyc/core/netref.py:253\u001b[0m, in \u001b[0;36m_make_method.<locals>.__call__\u001b[0;34m(_self, *args, **kwargs)\u001b[0m\n\u001b[1;32m    251\u001b[0m \u001b[39mdef\u001b[39;00m \u001b[39m__call__\u001b[39m(_self, \u001b[39m*\u001b[39margs, \u001b[39m*\u001b[39m\u001b[39m*\u001b[39mkwargs):\n\u001b[1;32m    252\u001b[0m     kwargs \u001b[39m=\u001b[39m \u001b[39mtuple\u001b[39m(kwargs\u001b[39m.\u001b[39mitems())\n\u001b[0;32m--> 253\u001b[0m     \u001b[39mreturn\u001b[39;00m syncreq(_self, consts\u001b[39m.\u001b[39;49mHANDLE_CALL, args, kwargs)\n",
      "File \u001b[0;32m~/Documents/facultad/tesis/instrumentation-venv/lib64/python3.11/site-packages/rpyc/core/netref.py:76\u001b[0m, in \u001b[0;36msyncreq\u001b[0;34m(proxy, handler, *args)\u001b[0m\n\u001b[1;32m     64\u001b[0m \u001b[39m\u001b[39m\u001b[39m\"\"\"Performs a synchronous request on the given proxy object.\u001b[39;00m\n\u001b[1;32m     65\u001b[0m \u001b[39mNot intended to be invoked directly.\u001b[39;00m\n\u001b[1;32m     66\u001b[0m \n\u001b[0;32m   (...)\u001b[0m\n\u001b[1;32m     73\u001b[0m \u001b[39m:returns: the result of the operation\u001b[39;00m\n\u001b[1;32m     74\u001b[0m \u001b[39m\"\"\"\u001b[39;00m\n\u001b[1;32m     75\u001b[0m conn \u001b[39m=\u001b[39m \u001b[39mobject\u001b[39m\u001b[39m.\u001b[39m\u001b[39m__getattribute__\u001b[39m(proxy, \u001b[39m\"\u001b[39m\u001b[39m____conn__\u001b[39m\u001b[39m\"\u001b[39m)\n\u001b[0;32m---> 76\u001b[0m \u001b[39mreturn\u001b[39;00m conn\u001b[39m.\u001b[39;49msync_request(handler, proxy, \u001b[39m*\u001b[39;49margs)\n",
      "File \u001b[0;32m~/Documents/facultad/tesis/instrumentation-venv/lib64/python3.11/site-packages/rpyc/core/protocol.py:469\u001b[0m, in \u001b[0;36mConnection.sync_request\u001b[0;34m(self, handler, *args)\u001b[0m\n\u001b[1;32m    463\u001b[0m \u001b[39m\u001b[39m\u001b[39m\"\"\"requests, sends a synchronous request (waits for the reply to arrive)\u001b[39;00m\n\u001b[1;32m    464\u001b[0m \n\u001b[1;32m    465\u001b[0m \u001b[39m:raises: any exception that the requets may be generated\u001b[39;00m\n\u001b[1;32m    466\u001b[0m \u001b[39m:returns: the result of the request\u001b[39;00m\n\u001b[1;32m    467\u001b[0m \u001b[39m\"\"\"\u001b[39;00m\n\u001b[1;32m    468\u001b[0m timeout \u001b[39m=\u001b[39m \u001b[39mself\u001b[39m\u001b[39m.\u001b[39m_config[\u001b[39m\"\u001b[39m\u001b[39msync_request_timeout\u001b[39m\u001b[39m\"\u001b[39m]\n\u001b[0;32m--> 469\u001b[0m \u001b[39mreturn\u001b[39;00m \u001b[39mself\u001b[39;49m\u001b[39m.\u001b[39;49masync_request(handler, \u001b[39m*\u001b[39;49margs, timeout\u001b[39m=\u001b[39;49mtimeout)\u001b[39m.\u001b[39;49mvalue\n",
      "File \u001b[0;32m~/Documents/facultad/tesis/instrumentation-venv/lib64/python3.11/site-packages/rpyc/core/async_.py:100\u001b[0m, in \u001b[0;36mAsyncResult.value\u001b[0;34m(self)\u001b[0m\n\u001b[1;32m     92\u001b[0m \u001b[39m@property\u001b[39m\n\u001b[1;32m     93\u001b[0m \u001b[39mdef\u001b[39;00m \u001b[39mvalue\u001b[39m(\u001b[39mself\u001b[39m):\n\u001b[1;32m     94\u001b[0m \u001b[39m    \u001b[39m\u001b[39m\"\"\"Returns the result of the operation. If the result has not yet\u001b[39;00m\n\u001b[1;32m     95\u001b[0m \u001b[39m    arrived, accessing this property will wait for it. If the result does\u001b[39;00m\n\u001b[1;32m     96\u001b[0m \u001b[39m    not arrive before the expiry time elapses, :class:`AsyncResultTimeout`\u001b[39;00m\n\u001b[1;32m     97\u001b[0m \u001b[39m    is raised. If the returned result is an exception, it will be raised\u001b[39;00m\n\u001b[1;32m     98\u001b[0m \u001b[39m    here. Otherwise, the result is returned directly.\u001b[39;00m\n\u001b[1;32m     99\u001b[0m \u001b[39m    \"\"\"\u001b[39;00m\n\u001b[0;32m--> 100\u001b[0m     \u001b[39mself\u001b[39;49m\u001b[39m.\u001b[39;49mwait()\n\u001b[1;32m    101\u001b[0m     \u001b[39mif\u001b[39;00m \u001b[39mself\u001b[39m\u001b[39m.\u001b[39m_is_exc:\n\u001b[1;32m    102\u001b[0m         \u001b[39mraise\u001b[39;00m \u001b[39mself\u001b[39m\u001b[39m.\u001b[39m_obj\n",
      "File \u001b[0;32m~/Documents/facultad/tesis/instrumentation-venv/lib64/python3.11/site-packages/rpyc/core/async_.py:49\u001b[0m, in \u001b[0;36mAsyncResult.wait\u001b[0;34m(self)\u001b[0m\n\u001b[1;32m     47\u001b[0m     \u001b[39mself\u001b[39m\u001b[39m.\u001b[39m_conn\u001b[39m.\u001b[39mserve(\u001b[39mself\u001b[39m\u001b[39m.\u001b[39m_ttl)\n\u001b[1;32m     48\u001b[0m \u001b[39mif\u001b[39;00m \u001b[39mnot\u001b[39;00m \u001b[39mself\u001b[39m\u001b[39m.\u001b[39m_is_ready:\n\u001b[0;32m---> 49\u001b[0m     \u001b[39mraise\u001b[39;00m AsyncResultTimeout(\u001b[39m\"\u001b[39m\u001b[39mresult expired\u001b[39m\u001b[39m\"\u001b[39m)\n",
      "\u001b[0;31mTimeoutError\u001b[0m: result expired"
     ]
    }
   ],
   "source": [
    "screen = spec._osc.get_triggered()\n",
    "plt.plot(screen)"
   ]
  }
 ],
 "metadata": {
  "kernelspec": {
   "display_name": "instrumentation-venv",
   "language": "python",
   "name": "python3"
  },
  "language_info": {
   "codemirror_mode": {
    "name": "ipython",
    "version": 3
   },
   "file_extension": ".py",
   "mimetype": "text/x-python",
   "name": "python",
   "nbconvert_exporter": "python",
   "pygments_lexer": "ipython3",
   "version": "3.11.6"
  }
 },
 "nbformat": 4,
 "nbformat_minor": 2
}
