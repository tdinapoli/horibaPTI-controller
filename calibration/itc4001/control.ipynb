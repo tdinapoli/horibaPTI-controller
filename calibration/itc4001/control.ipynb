{
 "cells": [
  {
   "cell_type": "code",
   "execution_count": 7,
   "metadata": {},
   "outputs": [
    {
     "name": "stdout",
     "output_type": "stream",
     "text": [
      "The autoreload extension is already loaded. To reload it, use:\n",
      "  %reload_ext autoreload\n"
     ]
    }
   ],
   "source": [
    "%load_ext autoreload\n",
    "%autoreload 2"
   ]
  },
  {
   "cell_type": "code",
   "execution_count": 32,
   "metadata": {},
   "outputs": [],
   "source": [
    "from ucnpexp.instruments import ITC4020"
   ]
  },
  {
   "cell_type": "code",
   "execution_count": 33,
   "metadata": {},
   "outputs": [
    {
     "name": "stdout",
     "output_type": "stream",
     "text": [
      "Connection established as expected\n",
      "Thorlabs,ITC4001,M00404162,1.8.0/1.5.0/2.3.0\n",
      "\n"
     ]
    }
   ],
   "source": [
    "itc = ITC4020(\"hola\")"
   ]
  },
  {
   "cell_type": "code",
   "execution_count": 34,
   "metadata": {},
   "outputs": [
    {
     "name": "stdout",
     "output_type": "stream",
     "text": [
      "self.qcw_mode=True, mode=True\n",
      "Already in that mode\n"
     ]
    }
   ],
   "source": [
    "itc.qcw_mode = True"
   ]
  },
  {
   "cell_type": "code",
   "execution_count": 40,
   "metadata": {},
   "outputs": [
    {
     "name": "stdout",
     "output_type": "stream",
     "text": [
      "79.99999\n",
      "30.0\n"
     ]
    }
   ],
   "source": [
    "print(itc.duty_cycle)\n",
    "itc.duty_cycle = 30\n",
    "print(itc.duty_cycle)"
   ]
  },
  {
   "cell_type": "code",
   "execution_count": 15,
   "metadata": {},
   "outputs": [
    {
     "name": "stdout",
     "output_type": "stream",
     "text": [
      "self.qcw_mode=True, mode=True\n",
      "Already in that mode\n"
     ]
    }
   ],
   "source": [
    "itc.qcw_mode = True\n",
    "itc.turn_on_laser()"
   ]
  },
  {
   "cell_type": "code",
   "execution_count": 16,
   "metadata": {},
   "outputs": [
    {
     "name": "stdout",
     "output_type": "stream",
     "text": [
      "0.128979146\n",
      "0.000304926652\n"
     ]
    }
   ],
   "source": [
    "print(itc.optical_power)\n",
    "itc.ld_output = False\n",
    "print(itc.optical_power)"
   ]
  },
  {
   "cell_type": "code",
   "execution_count": 21,
   "metadata": {},
   "outputs": [
    {
     "name": "stdout",
     "output_type": "stream",
     "text": [
      "23.6884708\n",
      "23.6937199\n",
      "23.6982365\n",
      "23.7020512\n",
      "23.7054081\n",
      "23.7083073\n",
      "23.7106571\n",
      "23.7127628\n",
      "23.7145939\n",
      "23.7160892\n"
     ]
    }
   ],
   "source": [
    "import time\n",
    "\n",
    "for i in range(10):\n",
    "    print(itc.temperature)\n",
    "    time.sleep(1)"
   ]
  },
  {
   "cell_type": "code",
   "execution_count": 115,
   "metadata": {},
   "outputs": [
    {
     "name": "stdout",
     "output_type": "stream",
     "text": [
      "curr=0.01A, pow=0.000175868627\n",
      "curr=0.03666666666666667A, pow=0.000563054346\n",
      "curr=0.06333333333333332A, pow=0.0228906702\n",
      "curr=0.08999999999999998A, pow=0.047541406\n",
      "curr=0.11666666666666665A, pow=0.0719340146\n",
      "curr=0.14333333333333334A, pow=0.0952941179\n",
      "curr=0.16999999999999998A, pow=0.118460648\n",
      "curr=0.19666666666666666A, pow=0.140594676\n",
      "curr=0.22333333333333333A, pow=0.162406057\n",
      "curr=0.25A, pow=0.183120415\n"
     ]
    }
   ],
   "source": [
    "import numpy as np\n",
    "import time\n",
    "currents = np.linspace(0.01, 0.25, 10)\n",
    "itc.ld_output = False\n",
    "powers = np.zeros_like(currents)\n",
    "for i, curr in enumerate(currents):\n",
    "    itc.laser_current = curr\n",
    "    itc.ld_output = True\n",
    "    time.sleep(6)\n",
    "    pow = itc.optical_power\n",
    "    print(f\"{curr=}A, {pow=}\")\n",
    "    powers[i] = pow\n",
    "    itc.ld_output = False\n"
   ]
  },
  {
   "cell_type": "code",
   "execution_count": 124,
   "metadata": {},
   "outputs": [
    {
     "name": "stdout",
     "output_type": "stream",
     "text": [
      "[0.01       0.03666667 0.06333333 0.09       0.11666667 0.14333333\n",
      " 0.17       0.19666667 0.22333333 0.25      ]\n",
      "[1.75868627e-04 5.63054346e-04 2.28906702e-02 4.75414060e-02\n",
      " 7.19340146e-02 9.52941179e-02 1.18460648e-01 1.40594676e-01\n",
      " 1.62406057e-01 1.83120415e-01]\n",
      "(2, 10)\n"
     ]
    }
   ],
   "source": [
    "print(currents)\n",
    "print(powers)\n",
    "print(np.vstack((currents, powers)).shape)\n",
    "np.save(\"./curr_vs_pow_itc\", np.vstack((currents, powers)))"
   ]
  },
  {
   "cell_type": "code",
   "execution_count": 116,
   "metadata": {},
   "outputs": [
    {
     "data": {
      "image/png": "[encoded data removed]",
      "text/plain": [
       "<Figure size 640x480 with 1 Axes>"
      ]
     },
     "metadata": {},
     "output_type": "display_data"
    }
   ],
   "source": [
    "import matplotlib.pyplot as plt\n",
    "plt.plot(currents, powers)\n",
    "plt.show()\n"
   ]
  },
  {
   "cell_type": "code",
   "execution_count": 37,
   "metadata": {},
   "outputs": [
    {
     "name": "stdout",
     "output_type": "stream",
     "text": [
      "PULS\n",
      "\n",
      "False\n"
     ]
    }
   ],
   "source": [
    "print(itc.qcw_mode)\n",
    "print(itc.modulation)"
   ]
  },
  {
   "cell_type": "code",
   "execution_count": 12,
   "metadata": {},
   "outputs": [
    {
     "name": "stdout",
     "output_type": "stream",
     "text": [
      "0\n",
      " 0 False\n"
     ]
    }
   ],
   "source": [
    "out = itc.itc.query(\"output:protection:keylock:tripped?\")\n",
    "print(out, int(out), bool(int(out)))"
   ]
  },
  {
   "cell_type": "code",
   "execution_count": 86,
   "metadata": {},
   "outputs": [
    {
     "data": {
      "text/plain": [
       "'1.800000E-01\\n'"
      ]
     },
     "execution_count": 86,
     "metadata": {},
     "output_type": "execute_result"
    }
   ],
   "source": [
    "itc.laser_current"
   ]
  }
 ],
 "metadata": {
  "kernelspec": {
   "display_name": "instrumentation-venv",
   "language": "python",
   "name": "python3"
  },
  "language_info": {
   "codemirror_mode": {
    "name": "ipython",
    "version": 3
   },
   "file_extension": ".py",
   "mimetype": "text/x-python",
   "name": "python",
   "nbconvert_exporter": "python",
   "pygments_lexer": "ipython3",
   "version": "3.11.6"
  }
 },
 "nbformat": 4,
 "nbformat_minor": 2
}
