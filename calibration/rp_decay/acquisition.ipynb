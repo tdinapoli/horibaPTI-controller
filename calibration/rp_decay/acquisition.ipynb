{
 "cells": [
  {
   "cell_type": "code",
   "execution_count": 2,
   "metadata": {},
   "outputs": [
    {
     "name": "stdout",
     "output_type": "stream",
     "text": [
      "The autoreload extension is already loaded. To reload it, use:\n",
      "  %reload_ext autoreload\n"
     ]
    }
   ],
   "source": [
    "%load_ext autoreload\n",
    "%autoreload 2"
   ]
  },
  {
   "cell_type": "code",
   "execution_count": 3,
   "metadata": {},
   "outputs": [],
   "source": [
    "\n",
    "from ucnpexp.instruments import OscilloscopeChannel, Spectrometer\n",
    "import numpy as np\n",
    "import rpyc"
   ]
  },
  {
   "cell_type": "code",
   "execution_count": 4,
   "metadata": {},
   "outputs": [],
   "source": [
    "\n",
    "conn = rpyc.connect('rp-f05512.local', port=18861)"
   ]
  },
  {
   "cell_type": "code",
   "execution_count": 5,
   "metadata": {},
   "outputs": [],
   "source": [
    "\n",
    "osc = OscilloscopeChannel(conn)"
   ]
  },
  {
   "cell_type": "code",
   "execution_count": 24,
   "metadata": {},
   "outputs": [
    {
     "name": "stdout",
     "output_type": "stream",
     "text": [
      "osc.decimation=32768\n",
      "osc.trigger_post=11444\n",
      "osc.trigger_pre=0\n",
      "osc.trig_src=8\n",
      "osc.get_measurement_time()=2.999975936\n",
      "osc.amount_datapoints=11444\n"
     ]
    }
   ],
   "source": [
    "\n",
    "window = 0\n",
    "offset = 0\n",
    "osc.set_measurement_time(3, offset=offset)\n",
    "datapoints_for_time = osc.amount_datapoints\n",
    "buff_offset = window * osc.amount_datapoints\n",
    "osc.set_trigger(channel=1, edge=\"neg\")\n",
    "print(f\"{osc.decimation=}\\n{osc.trigger_post=}\\n{osc.trigger_pre=}\\n{osc.trig_src=}\\n{osc.get_measurement_time()=}\\n{osc.amount_datapoints=}\")"
   ]
  },
  {
   "cell_type": "code",
   "execution_count": 25,
   "metadata": {},
   "outputs": [],
   "source": [
    "def acquire_decay(lifetime, amount_windows=1, amount_buffers=1, \n",
    "                  pct_overlap=0, measurement_length=9.0,\n",
    "                  path=None, threshold=2):\n",
    "    counts = np.array([]) \n",
    "    for window in range(amount_windows):\n",
    "        osc.set_measurement_time(lifetime)\n",
    "        offset = (1 - pct_overlap)*window*osc.get_measurement_time()\n",
    "        if offset + osc.get_measurement_time() > measurement_length:\n",
    "            print(\"Offset and measurement time exceed simulated length\")\n",
    "            print(\"returning...\")\n",
    "            return\n",
    "        osc.set_measurement_time(lifetime, offset=offset)\n",
    "        time_axis = np.arange(0, osc.amount_datapoints, 1.0)/osc.sampling_rate + offset\n",
    "        if path is not None:\n",
    "            np.save(f\"{path}/times_w{window}\", time_axis)\n",
    "        for buffer in range(amount_buffers):\n",
    "            print(f\"asking for window {window} and buffer {buffer}\")\n",
    "            screen = np.array(osc.get_triggered())\n",
    "            if path is not None:\n",
    "                np.save(\n",
    "                f\"{path}/w{window}b{buffer}ol{pct_overlap}l{lifetime}\",\n",
    "                  screen\n",
    "                  )\n",
    "            peaks = np.where(np.diff(screen) > threshold)[0]\n",
    "            times = peaks/osc.sampling_rate + offset\n",
    "            counts = np.hstack((counts, times))\n",
    "    return counts"
   ]
  },
  {
   "cell_type": "code",
   "execution_count": 26,
   "metadata": {},
   "outputs": [
    {
     "name": "stdout",
     "output_type": "stream",
     "text": [
      "asking for window 0 and buffer 0\n",
      "asking for window 0 and buffer 1\n",
      "asking for window 0 and buffer 2\n",
      "asking for window 0 and buffer 3\n",
      "asking for window 0 and buffer 4\n",
      "asking for window 0 and buffer 5\n",
      "asking for window 0 and buffer 6\n",
      "asking for window 0 and buffer 7\n",
      "asking for window 0 and buffer 8\n",
      "asking for window 0 and buffer 9\n",
      "asking for window 1 and buffer 0\n",
      "asking for window 1 and buffer 1\n",
      "asking for window 1 and buffer 2\n",
      "asking for window 1 and buffer 3\n",
      "asking for window 1 and buffer 4\n",
      "asking for window 1 and buffer 5\n",
      "asking for window 1 and buffer 6\n",
      "asking for window 1 and buffer 7\n",
      "asking for window 1 and buffer 8\n",
      "asking for window 1 and buffer 9\n",
      "asking for window 2 and buffer 0\n",
      "asking for window 2 and buffer 1\n",
      "asking for window 2 and buffer 2\n",
      "asking for window 2 and buffer 3\n",
      "asking for window 2 and buffer 4\n",
      "asking for window 2 and buffer 5\n",
      "asking for window 2 and buffer 6\n",
      "asking for window 2 and buffer 7\n",
      "asking for window 2 and buffer 8\n",
      "asking for window 2 and buffer 9\n",
      "Offset and measurement time exceed simulated length\n",
      "returning...\n"
     ]
    }
   ],
   "source": [
    "lifetime = 3.0\n",
    "amount_windows = 5\n",
    "amount_buffers = 10\n",
    "pct_overlap = 0.3\n",
    "path = '/home/tomi/Documents/facultad/tesis/horibaPTI-controller/calibracion/rp_decay/data/2023-12-12/exp2'\n",
    "counts = acquire_decay(lifetime,\n",
    "                       amount_windows=amount_windows,\n",
    "                       amount_buffers=amount_buffers,\n",
    "                       pct_overlap=pct_overlap,\n",
    "                       path=path\n",
    "                       )"
   ]
  },
  {
   "cell_type": "code",
   "execution_count": null,
   "metadata": {},
   "outputs": [],
   "source": []
  }
 ],
 "metadata": {
  "kernelspec": {
   "display_name": "instrumentation-venv",
   "language": "python",
   "name": "python3"
  },
  "language_info": {
   "codemirror_mode": {
    "name": "ipython",
    "version": 3
   },
   "file_extension": ".py",
   "mimetype": "text/x-python",
   "name": "python",
   "nbconvert_exporter": "python",
   "pygments_lexer": "ipython3",
   "version": "3.11.6"
  }
 },
 "nbformat": 4,
 "nbformat_minor": 2
}
